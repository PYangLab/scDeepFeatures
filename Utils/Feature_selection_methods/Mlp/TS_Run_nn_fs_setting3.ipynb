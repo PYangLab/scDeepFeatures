{
 "cells": [
  {
   "cell_type": "markdown",
   "id": "33a07d35",
   "metadata": {},
   "source": [
    "# Run file of experiments"
   ]
  },
  {
   "cell_type": "markdown",
   "id": "83c9af89",
   "metadata": {},
   "source": [
    "## Setting 3 -  varing number of cell types"
   ]
  },
  {
   "cell_type": "code",
   "execution_count": null,
   "id": "1a660c38",
   "metadata": {},
   "outputs": [],
   "source": [
    "import sys\n",
    "import os\n",
    "import time\n",
    "import datetime\n",
    "import numpy as np\n",
    "import pandas as pd\n",
    "from util import setup_seed"
   ]
  },
  {
   "cell_type": "code",
   "execution_count": null,
   "id": "cc4be85c",
   "metadata": {},
   "outputs": [],
   "source": [
    "nn_methods = [\"DeepLift\", \"GradientShap\", \"LRP\", \"FeatureAblation\", \"Occlusion\", \"Lime\"] "
   ]
  },
  {
   "cell_type": "markdown",
   "id": "9faa82b4",
   "metadata": {},
   "source": [
    "### run method 1: DeepLift"
   ]
  },
  {
   "cell_type": "code",
   "execution_count": null,
   "id": "925200df",
   "metadata": {
    "scrolled": true
   },
   "outputs": [],
   "source": [
    "method = nn_methods[0]\n",
    "try:\n",
    "    os.mkdir(\"../Result/TS_Fs_marker/Nn/Setting3/{}\".format(method))\n",
    "except:\n",
    "    pass\n",
    "time_record = []\n",
    "n=1 # seed number \n",
    "j=1\n",
    "while j<=10:\n",
    "    for nGroups in [10, 20]: # cell number\n",
    "        for imbratio in [1/2, 1/4, 1/10]:\n",
    "            print(\"====================================================================================================\")\n",
    "            print(\"doing experiment: \\n method: {} \\n dataset: \\n nGroups = {} \\n iterationg = {} \\n seed = {} \\n\".format(method, nGroups, j, n))\n",
    "\n",
    "            time_start = datetime.datetime.now()\n",
    "            ## method, trian_data, train_label, test_data, test_label, model_save_path, save_fs_eachcell\n",
    "            !python main.py --method {method}                                                                         --train_data \"../../../Data/Simulation/Tabula_sapiens_h5/Setting3/nGroups_{nGroups}/imbratio_{imbratio}/Train_Simulation_setting3_200_nGroups_{nGroups}_iteration{j}_imbalanceRatio_1_{imbratio}.h5\"    --train_label \"../../../Data/Simulation/Tabula_sapiens_h5/Setting3/nGroups_{nGroups}/imbratio_{imbratio}/Train_Cty_Simulation_setting3_200_nGroups_{nGroups}_iteration{j}_imbalanceRatio_1_{imbratio}.csv\"                                                                                                               --test_data \"../../../Data/Simulation/Tabula_sapiens_h5/Setting3/nGroups_{nGroups}/imbratio_{imbratio}/Test_Simulation_setting3_200_nGroups_{nGroups}_iteration{j}_imbalanceRatio_1_{imbratio}.h5\"     --test_label \"../../../Data/Simulation/Tabula_sapiens_h5/Setting3/nGroups_{nGroups}/imbratio_{imbratio}/Test_Cty_Simulation_setting3_200_nGroups_{nGroups}_iteration{j}_imbalanceRatio_1_{imbratio}.csv\" --save_fs_eachcell \"../../../Result/TS_Fs_marker/Nn/Setting3/{method}/nGroups_{nGroups}_imb_{imbratio}_iteration{j}/\" --model_save_path ../../../Result/TS_Fs_marker/Nn/Setting3/\n",
    "\n",
    "            time_end = datetime.datetime.now()\n",
    "            time_elapse = (time_end - time_start).total_seconds()\n",
    "            time_record.append(time_elapse)\n",
    "            print(\"finished {} datasets\".format(n))\n",
    "            n=n+1\n",
    "    j=j+1\n",
    "\n",
    "df_time = pd.DataFrame({\n",
    "    \"time(sec)\" : time_record,\n",
    "    \"nGroup\" : [10,10,10, 20,20,20]*10,\n",
    "    \"imbratio\" : [1/2, 1/4, 1/10]*20\n",
    "})\n",
    "df_time.to_csv(\"../../../Result/TS_Fs_marker/Nn/Setting3/{}/Elapse_time_record.csv\".format(method))"
   ]
  },
  {
   "cell_type": "markdown",
   "id": "6d4ea82b",
   "metadata": {},
   "source": [
    "### run method 2: GradientShap"
   ]
  },
  {
   "cell_type": "code",
   "execution_count": null,
   "id": "a95f7578",
   "metadata": {},
   "outputs": [],
   "source": [
    "method = nn_methods[1]\n",
    "try:\n",
    "    os.mkdir(\"../Result/TS_Fs_marker/Nn/Setting3/{}\".format(method))\n",
    "except:\n",
    "    pass\n",
    "time_record = []\n",
    "n=1 # seed number \n",
    "j=1\n",
    "while j<=10:\n",
    "    for nGroups in [10, 20]: # cell number\n",
    "        for imbratio in [1/2, 1/4, 1/10]:\n",
    "            print(\"====================================================================================================\")\n",
    "            print(\"doing experiment: \\n method: {} \\n dataset: \\n nGroups = {} \\n iterationg = {} \\n seed = {} \\n\".format(method, nGroups, j, n))\n",
    "\n",
    "            time_start = datetime.datetime.now()\n",
    "            ## method, trian_data, train_label, test_data, test_label, model_save_path, save_fs_eachcell\n",
    "            !python main.py --method {method}                                                                         --train_data \"../../../Data/Simulation/Tabula_sapiens_h5/Setting3/nGroups_{nGroups}/imbratio_{imbratio}/Train_Simulation_setting3_200_nGroups_{nGroups}_iteration{j}_imbalanceRatio_1_{imbratio}.h5\"    --train_label \"../../../Data/Simulation/Tabula_sapiens_h5/Setting3/nGroups_{nGroups}/imbratio_{imbratio}/Train_Cty_Simulation_setting3_200_nGroups_{nGroups}_iteration{j}_imbalanceRatio_1_{imbratio}.csv\"                                                                                                               --test_data \"../../../Data/Simulation/Tabula_sapiens_h5/Setting3/nGroups_{nGroups}/imbratio_{imbratio}/Test_Simulation_setting3_200_nGroups_{nGroups}_iteration{j}_imbalanceRatio_1_{imbratio}.h5\"     --test_label \"../../../Data/Simulation/Tabula_sapiens_h5/Setting3/nGroups_{nGroups}/imbratio_{imbratio}/Test_Cty_Simulation_setting3_200_nGroups_{nGroups}_iteration{j}_imbalanceRatio_1_{imbratio}.csv\" --save_fs_eachcell \"../../../Result/TS_Fs_marker/Nn/Setting3/{method}/nGroups_{nGroups}_imb_{imbratio}_iteration{j}/\" --model_save_path ../../../Result/TS_Fs_marker/Nn/Setting3/\n",
    "\n",
    "            time_end = datetime.datetime.now()\n",
    "            time_elapse = (time_end - time_start).total_seconds()\n",
    "            time_record.append(time_elapse)\n",
    "            print(\"finished {} datasets\".format(n))\n",
    "            n=n+1\n",
    "    j=j+1\n",
    "\n",
    "df_time = pd.DataFrame({\n",
    "    \"time(sec)\" : time_record,\n",
    "    \"nGroup\" : [10,10,10, 20,20,20]*10,\n",
    "    \"imbratio\" : [1/2, 1/4, 1/10]*20\n",
    "})\n",
    "df_time.to_csv(\"../../../Result/TS_Fs_marker/Nn/Setting3/{}/Elapse_time_record.csv\".format(method))"
   ]
  },
  {
   "cell_type": "markdown",
   "id": "2f7048f6",
   "metadata": {},
   "source": [
    "### run method 3: LRP"
   ]
  },
  {
   "cell_type": "code",
   "execution_count": null,
   "id": "a16d00f0",
   "metadata": {},
   "outputs": [],
   "source": [
    "method = nn_methods[2]\n",
    "try:\n",
    "    os.mkdir(\"../Result/TS_Fs_marker/Nn/Setting3/{}\".format(method))\n",
    "except:\n",
    "    pass\n",
    "time_record = []\n",
    "n=1 # seed number \n",
    "j=1\n",
    "while j<=10:\n",
    "    for nGroups in [10, 20]: # cell number\n",
    "        for imbratio in [1/2, 1/4, 1/10]:\n",
    "            print(\"====================================================================================================\")\n",
    "            print(\"doing experiment: \\n method: {} \\n dataset: \\n nGroups = {} \\n iterationg = {} \\n seed = {} \\n\".format(method, nGroups, j, n))\n",
    "\n",
    "            time_start = datetime.datetime.now()\n",
    "            ## method, trian_data, train_label, test_data, test_label, model_save_path, save_fs_eachcell\n",
    "            !python main.py --method {method}                                                                         --train_data \"../../../Data/Simulation/Tabula_sapiens_h5/Setting3/nGroups_{nGroups}/imbratio_{imbratio}/Train_Simulation_setting3_200_nGroups_{nGroups}_iteration{j}_imbalanceRatio_1_{imbratio}.h5\"    --train_label \"../../../Data/Simulation/Tabula_sapiens_h5/Setting3/nGroups_{nGroups}/imbratio_{imbratio}/Train_Cty_Simulation_setting3_200_nGroups_{nGroups}_iteration{j}_imbalanceRatio_1_{imbratio}.csv\"                                                                                                               --test_data \"../../../Data/Simulation/Tabula_sapiens_h5/Setting3/nGroups_{nGroups}/imbratio_{imbratio}/Test_Simulation_setting3_200_nGroups_{nGroups}_iteration{j}_imbalanceRatio_1_{imbratio}.h5\"     --test_label \"../../../Data/Simulation/Tabula_sapiens_h5/Setting3/nGroups_{nGroups}/imbratio_{imbratio}/Test_Cty_Simulation_setting3_200_nGroups_{nGroups}_iteration{j}_imbalanceRatio_1_{imbratio}.csv\" --save_fs_eachcell \"../../../Result/TS_Fs_marker/Nn/Setting3/{method}/nGroups_{nGroups}_imb_{imbratio}_iteration{j}/\" --model_save_path ../../../Result/TS_Fs_marker/Nn/Setting3/\n",
    "\n",
    "            time_end = datetime.datetime.now()\n",
    "            time_elapse = (time_end - time_start).total_seconds()\n",
    "            time_record.append(time_elapse)\n",
    "            print(\"finished {} datasets\".format(n))\n",
    "            n=n+1\n",
    "    j=j+1\n",
    "\n",
    "df_time = pd.DataFrame({\n",
    "    \"time(sec)\" : time_record,\n",
    "    \"nGroup\" : [10,10,10, 20,20,20]*10,\n",
    "    \"imbratio\" : [1/2, 1/4, 1/10]*20\n",
    "})\n",
    "df_time.to_csv(\"../../../Result/TS_Fs_marker/Nn/Setting3/{}/Elapse_time_record.csv\".format(method))"
   ]
  },
  {
   "cell_type": "markdown",
   "id": "c7a059e0",
   "metadata": {},
   "source": [
    "### run method 4: FeatureAblation"
   ]
  },
  {
   "cell_type": "code",
   "execution_count": null,
   "id": "cc716334",
   "metadata": {},
   "outputs": [],
   "source": [
    "method = nn_methods[3]\n",
    "try:\n",
    "    os.mkdir(\"../Result/TS_Fs_marker/Nn/Setting3/{}\".format(method))\n",
    "except:\n",
    "    pass\n",
    "time_record = []\n",
    "n=1 # seed number \n",
    "j=1\n",
    "while j<=10:\n",
    "    for nGroups in [10, 20]: # cell number\n",
    "        for imbratio in [1/2, 1/4, 1/10]:\n",
    "            print(\"====================================================================================================\")\n",
    "            print(\"doing experiment: \\n method: {} \\n dataset: \\n nGroups = {} \\n iterationg = {} \\n seed = {} \\n\".format(method, nGroups, j, n))\n",
    "\n",
    "            time_start = datetime.datetime.now()\n",
    "            ## method, trian_data, train_label, test_data, test_label, model_save_path, save_fs_eachcell\n",
    "            !python main.py --method {method}                                                                         --train_data \"../../../Data/Simulation/Tabula_sapiens_h5/Setting3/nGroups_{nGroups}/imbratio_{imbratio}/Train_Simulation_setting3_200_nGroups_{nGroups}_iteration{j}_imbalanceRatio_1_{imbratio}.h5\"    --train_label \"../../../Data/Simulation/Tabula_sapiens_h5/Setting3/nGroups_{nGroups}/imbratio_{imbratio}/Train_Cty_Simulation_setting3_200_nGroups_{nGroups}_iteration{j}_imbalanceRatio_1_{imbratio}.csv\"                                                                                                               --test_data \"../../../Data/Simulation/Tabula_sapiens_h5/Setting3/nGroups_{nGroups}/imbratio_{imbratio}/Test_Simulation_setting3_200_nGroups_{nGroups}_iteration{j}_imbalanceRatio_1_{imbratio}.h5\"     --test_label \"../../../Data/Simulation/Tabula_sapiens_h5/Setting3/nGroups_{nGroups}/imbratio_{imbratio}/Test_Cty_Simulation_setting3_200_nGroups_{nGroups}_iteration{j}_imbalanceRatio_1_{imbratio}.csv\" --save_fs_eachcell \"../../../Result/TS_Fs_marker/Nn/Setting3/{method}/nGroups_{nGroups}_imb_{imbratio}_iteration{j}/\" --model_save_path ../../../Result/TS_Fs_marker/Nn/Setting3/\n",
    "\n",
    "            time_end = datetime.datetime.now()\n",
    "            time_elapse = (time_end - time_start).total_seconds()\n",
    "            time_record.append(time_elapse)\n",
    "            print(\"finished {} datasets\".format(n))\n",
    "            n=n+1\n",
    "    j=j+1\n",
    "\n",
    "df_time = pd.DataFrame({\n",
    "    \"time(sec)\" : time_record,\n",
    "    \"nGroup\" : [10,10,10, 20,20,20]*10,\n",
    "    \"imbratio\" : [1/2, 1/4, 1/10]*20\n",
    "})\n",
    "df_time.to_csv(\"../../../Result/TS_Fs_marker/Nn/Setting3/{}/Elapse_time_record.csv\".format(method))"
   ]
  },
  {
   "cell_type": "markdown",
   "id": "06bc9a84",
   "metadata": {},
   "source": [
    "### run method 5: Occlusion"
   ]
  },
  {
   "cell_type": "code",
   "execution_count": null,
   "id": "00a6ccc9",
   "metadata": {},
   "outputs": [],
   "source": [
    "method = nn_methods[4]\n",
    "try:\n",
    "    os.mkdir(\"../Result/TS_Fs_marker/Nn/Setting3/{}\".format(method))\n",
    "except:\n",
    "    pass\n",
    "time_record = []\n",
    "n=1 # seed number \n",
    "j=1\n",
    "while j<=10:\n",
    "    for nGroups in [10, 20]: # cell number\n",
    "        for imbratio in [1/2, 1/4, 1/10]:\n",
    "            print(\"====================================================================================================\")\n",
    "            print(\"doing experiment: \\n method: {} \\n dataset: \\n nGroups = {} \\n iterationg = {} \\n seed = {} \\n\".format(method, nGroups, j, n))\n",
    "\n",
    "            time_start = datetime.datetime.now()\n",
    "            ## method, trian_data, train_label, test_data, test_label, model_save_path, save_fs_eachcell\n",
    "            !python main.py --method {method}                                                                         --train_data \"../../../Data/Simulation/Tabula_sapiens_h5/Setting3/nGroups_{nGroups}/imbratio_{imbratio}/Train_Simulation_setting3_200_nGroups_{nGroups}_iteration{j}_imbalanceRatio_1_{imbratio}.h5\"    --train_label \"../../../Data/Simulation/Tabula_sapiens_h5/Setting3/nGroups_{nGroups}/imbratio_{imbratio}/Train_Cty_Simulation_setting3_200_nGroups_{nGroups}_iteration{j}_imbalanceRatio_1_{imbratio}.csv\"                                                                                                               --test_data \"../../../Data/Simulation/Tabula_sapiens_h5/Setting3/nGroups_{nGroups}/imbratio_{imbratio}/Test_Simulation_setting3_200_nGroups_{nGroups}_iteration{j}_imbalanceRatio_1_{imbratio}.h5\"     --test_label \"../../../Data/Simulation/Tabula_sapiens_h5/Setting3/nGroups_{nGroups}/imbratio_{imbratio}/Test_Cty_Simulation_setting3_200_nGroups_{nGroups}_iteration{j}_imbalanceRatio_1_{imbratio}.csv\" --save_fs_eachcell \"../../../Result/TS_Fs_marker/Nn/Setting3/{method}/nGroups_{nGroups}_imb_{imbratio}_iteration{j}/\" --model_save_path ../../../Result/TS_Fs_marker/Nn/Setting3/\n",
    "\n",
    "            time_end = datetime.datetime.now()\n",
    "            time_elapse = (time_end - time_start).total_seconds()\n",
    "            time_record.append(time_elapse)\n",
    "            print(\"finished {} datasets\".format(n))\n",
    "            n=n+1\n",
    "    j=j+1\n",
    "\n",
    "df_time = pd.DataFrame({\n",
    "    \"time(sec)\" : time_record,\n",
    "    \"nGroup\" : [10,10,10, 20,20,20]*10,\n",
    "    \"imbratio\" : [1/2, 1/4, 1/10]*20\n",
    "})\n",
    "df_time.to_csv(\"../../../Result/TS_Fs_marker/Nn/Setting3/{}/Elapse_time_record.csv\".format(method))"
   ]
  },
  {
   "cell_type": "markdown",
   "id": "023b7a88",
   "metadata": {},
   "source": [
    "### run method 6: Lime"
   ]
  },
  {
   "cell_type": "code",
   "execution_count": null,
   "id": "3e949af6",
   "metadata": {},
   "outputs": [],
   "source": [
    "method = nn_methods[5]\n",
    "try:\n",
    "    os.mkdir(\"../Result/TS_Fs_marker/Nn/Setting3/{}\".format(method))\n",
    "except:\n",
    "    pass\n",
    "time_record = []\n",
    "n=1 # seed number \n",
    "j=1\n",
    "while j<=10:\n",
    "    for nGroups in [10, 20]: # cell number\n",
    "        for imbratio in [1/2, 1/4, 1/10]:\n",
    "            print(\"====================================================================================================\")\n",
    "            print(\"doing experiment: \\n method: {} \\n dataset: \\n nGroups = {} \\n iterationg = {} \\n seed = {} \\n\".format(method, nGroups, j, n))\n",
    "\n",
    "            time_start = datetime.datetime.now()\n",
    "            ## method, trian_data, train_label, test_data, test_label, model_save_path, save_fs_eachcell\n",
    "            !python main.py --method {method}                                                                         --train_data \"../../../Data/Simulation/Tabula_sapiens_h5/Setting3/nGroups_{nGroups}/imbratio_{imbratio}/Train_Simulation_setting3_200_nGroups_{nGroups}_iteration{j}_imbalanceRatio_1_{imbratio}.h5\"    --train_label \"../../../Data/Simulation/Tabula_sapiens_h5/Setting3/nGroups_{nGroups}/imbratio_{imbratio}/Train_Cty_Simulation_setting3_200_nGroups_{nGroups}_iteration{j}_imbalanceRatio_1_{imbratio}.csv\"                                                                                                               --test_data \"../../../Data/Simulation/Tabula_sapiens_h5/Setting3/nGroups_{nGroups}/imbratio_{imbratio}/Test_Simulation_setting3_200_nGroups_{nGroups}_iteration{j}_imbalanceRatio_1_{imbratio}.h5\"     --test_label \"../../../Data/Simulation/Tabula_sapiens_h5/Setting3/nGroups_{nGroups}/imbratio_{imbratio}/Test_Cty_Simulation_setting3_200_nGroups_{nGroups}_iteration{j}_imbalanceRatio_1_{imbratio}.csv\" --save_fs_eachcell \"../../../Result/TS_Fs_marker/Nn/Setting3/{method}/nGroups_{nGroups}_imb_{imbratio}_iteration{j}/\" --model_save_path ../../../Result/TS_Fs_marker/Nn/Setting3/\n",
    "\n",
    "            time_end = datetime.datetime.now()\n",
    "            time_elapse = (time_end - time_start).total_seconds()\n",
    "            time_record.append(time_elapse)\n",
    "            print(\"finished {} datasets\".format(n))\n",
    "            n=n+1\n",
    "    j=j+1\n",
    "\n",
    "df_time = pd.DataFrame({\n",
    "    \"time(sec)\" : time_record,\n",
    "    \"nGroup\" : [10,10,10, 20,20,20]*10,\n",
    "    \"imbratio\" : [1/2, 1/4, 1/10]*20\n",
    "})\n",
    "df_time.to_csv(\"../../../Result/TS_Fs_marker/Nn/Setting3/{}/Elapse_time_record.csv\".format(method))"
   ]
  }
 ],
 "metadata": {
  "kernelspec": {
   "display_name": "Python 3",
   "language": "python",
   "name": "python3"
  },
  "language_info": {
   "codemirror_mode": {
    "name": "ipython",
    "version": 3
   },
   "file_extension": ".py",
   "mimetype": "text/x-python",
   "name": "python",
   "nbconvert_exporter": "python",
   "pygments_lexer": "ipython3",
   "version": "3.9.2"
  }
 },
 "nbformat": 4,
 "nbformat_minor": 5
}
